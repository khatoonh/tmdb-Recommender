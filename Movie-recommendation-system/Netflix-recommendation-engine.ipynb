{
 "cells": [
  {
   "cell_type": "code",
   "execution_count": 1,
   "id": "78f5e9c0",
   "metadata": {},
   "outputs": [],
   "source": [
    "import pandas as pd\n",
    "import numpy as np"
   ]
  },
  {
   "cell_type": "code",
   "execution_count": 12,
   "id": "8b71e07e",
   "metadata": {},
   "outputs": [],
   "source": [
    "movies=pd.read_csv(\"netflix_titles.csv\")"
   ]
  },
  {
   "cell_type": "code",
   "execution_count": 13,
   "id": "f3a9c6c2",
   "metadata": {},
   "outputs": [
    {
     "data": {
      "text/plain": [
       "(7787, 12)"
      ]
     },
     "execution_count": 13,
     "metadata": {},
     "output_type": "execute_result"
    }
   ],
   "source": [
    "movies.shape"
   ]
  },
  {
   "cell_type": "code",
   "execution_count": 14,
   "id": "887f882c",
   "metadata": {},
   "outputs": [
    {
     "data": {
      "text/html": [
       "<div>\n",
       "<style scoped>\n",
       "    .dataframe tbody tr th:only-of-type {\n",
       "        vertical-align: middle;\n",
       "    }\n",
       "\n",
       "    .dataframe tbody tr th {\n",
       "        vertical-align: top;\n",
       "    }\n",
       "\n",
       "    .dataframe thead th {\n",
       "        text-align: right;\n",
       "    }\n",
       "</style>\n",
       "<table border=\"1\" class=\"dataframe\">\n",
       "  <thead>\n",
       "    <tr style=\"text-align: right;\">\n",
       "      <th></th>\n",
       "      <th>show_id</th>\n",
       "      <th>type</th>\n",
       "      <th>title</th>\n",
       "      <th>director</th>\n",
       "      <th>cast</th>\n",
       "      <th>country</th>\n",
       "      <th>date_added</th>\n",
       "      <th>release_year</th>\n",
       "      <th>rating</th>\n",
       "      <th>duration</th>\n",
       "      <th>listed_in</th>\n",
       "      <th>description</th>\n",
       "    </tr>\n",
       "  </thead>\n",
       "  <tbody>\n",
       "    <tr>\n",
       "      <th>4155</th>\n",
       "      <td>s4156</td>\n",
       "      <td>Movie</td>\n",
       "      <td>Mo Gilligan: Momentum</td>\n",
       "      <td>Chris Howe</td>\n",
       "      <td>Mo Gilligan</td>\n",
       "      <td>United Kingdom</td>\n",
       "      <td>September 30, 2019</td>\n",
       "      <td>2019</td>\n",
       "      <td>TV-MA</td>\n",
       "      <td>64 min</td>\n",
       "      <td>Stand-Up Comedy</td>\n",
       "      <td>Comedian Mo Gilligan blends smooth moves and s...</td>\n",
       "    </tr>\n",
       "    <tr>\n",
       "      <th>2539</th>\n",
       "      <td>s2540</td>\n",
       "      <td>Movie</td>\n",
       "      <td>Gridlocked</td>\n",
       "      <td>Allan Ungar</td>\n",
       "      <td>Dominic Purcell, Cody Hackman, Stephen Lang, T...</td>\n",
       "      <td>Canada</td>\n",
       "      <td>July 14, 2016</td>\n",
       "      <td>2015</td>\n",
       "      <td>R</td>\n",
       "      <td>114 min</td>\n",
       "      <td>Action &amp; Adventure</td>\n",
       "      <td>An embittered cop is tasked with baby-sitting ...</td>\n",
       "    </tr>\n",
       "    <tr>\n",
       "      <th>6331</th>\n",
       "      <td>s6332</td>\n",
       "      <td>Movie</td>\n",
       "      <td>The End of the Tour</td>\n",
       "      <td>James Ponsoldt</td>\n",
       "      <td>Jason Segel, Jesse Eisenberg, Becky Ann Baker,...</td>\n",
       "      <td>United States</td>\n",
       "      <td>July 26, 2018</td>\n",
       "      <td>2015</td>\n",
       "      <td>R</td>\n",
       "      <td>106 min</td>\n",
       "      <td>Dramas, Independent Movies</td>\n",
       "      <td>\"Rolling Stone\" reporter David Lipsky shadows ...</td>\n",
       "    </tr>\n",
       "    <tr>\n",
       "      <th>6373</th>\n",
       "      <td>s6374</td>\n",
       "      <td>Movie</td>\n",
       "      <td>The Founder</td>\n",
       "      <td>John Lee Hancock</td>\n",
       "      <td>Laura Dern, B.J. Novak, Patrick Wilson, John C...</td>\n",
       "      <td>United States, Greece</td>\n",
       "      <td>August 21, 2020</td>\n",
       "      <td>2016</td>\n",
       "      <td>PG-13</td>\n",
       "      <td>115 min</td>\n",
       "      <td>Dramas</td>\n",
       "      <td>After a fateful encounter with the McDonald br...</td>\n",
       "    </tr>\n",
       "    <tr>\n",
       "      <th>4720</th>\n",
       "      <td>s4721</td>\n",
       "      <td>Movie</td>\n",
       "      <td>P.S. I Love You</td>\n",
       "      <td>Richard LaGravenese</td>\n",
       "      <td>Hilary Swank, Gerard Butler, Lisa Kudrow, Gina...</td>\n",
       "      <td>United States</td>\n",
       "      <td>April 1, 2019</td>\n",
       "      <td>2007</td>\n",
       "      <td>PG-13</td>\n",
       "      <td>126 min</td>\n",
       "      <td>Dramas, Romantic Movies</td>\n",
       "      <td>When she loses her beloved husband to a brain ...</td>\n",
       "    </tr>\n",
       "  </tbody>\n",
       "</table>\n",
       "</div>"
      ],
      "text/plain": [
       "     show_id   type                  title             director  \\\n",
       "4155   s4156  Movie  Mo Gilligan: Momentum           Chris Howe   \n",
       "2539   s2540  Movie             Gridlocked          Allan Ungar   \n",
       "6331   s6332  Movie    The End of the Tour       James Ponsoldt   \n",
       "6373   s6374  Movie            The Founder     John Lee Hancock   \n",
       "4720   s4721  Movie        P.S. I Love You  Richard LaGravenese   \n",
       "\n",
       "                                                   cast  \\\n",
       "4155                                        Mo Gilligan   \n",
       "2539  Dominic Purcell, Cody Hackman, Stephen Lang, T...   \n",
       "6331  Jason Segel, Jesse Eisenberg, Becky Ann Baker,...   \n",
       "6373  Laura Dern, B.J. Novak, Patrick Wilson, John C...   \n",
       "4720  Hilary Swank, Gerard Butler, Lisa Kudrow, Gina...   \n",
       "\n",
       "                    country          date_added  release_year rating duration  \\\n",
       "4155         United Kingdom  September 30, 2019          2019  TV-MA   64 min   \n",
       "2539                 Canada       July 14, 2016          2015      R  114 min   \n",
       "6331          United States       July 26, 2018          2015      R  106 min   \n",
       "6373  United States, Greece     August 21, 2020          2016  PG-13  115 min   \n",
       "4720          United States       April 1, 2019          2007  PG-13  126 min   \n",
       "\n",
       "                       listed_in  \\\n",
       "4155             Stand-Up Comedy   \n",
       "2539          Action & Adventure   \n",
       "6331  Dramas, Independent Movies   \n",
       "6373                      Dramas   \n",
       "4720     Dramas, Romantic Movies   \n",
       "\n",
       "                                            description  \n",
       "4155  Comedian Mo Gilligan blends smooth moves and s...  \n",
       "2539  An embittered cop is tasked with baby-sitting ...  \n",
       "6331  \"Rolling Stone\" reporter David Lipsky shadows ...  \n",
       "6373  After a fateful encounter with the McDonald br...  \n",
       "4720  When she loses her beloved husband to a brain ...  "
      ]
     },
     "execution_count": 14,
     "metadata": {},
     "output_type": "execute_result"
    }
   ],
   "source": [
    "movies.sample(5)"
   ]
  },
  {
   "cell_type": "code",
   "execution_count": 15,
   "id": "8816868a",
   "metadata": {},
   "outputs": [
    {
     "data": {
      "text/plain": [
       "Movie      5377\n",
       "TV Show    2410\n",
       "Name: type, dtype: int64"
      ]
     },
     "execution_count": 15,
     "metadata": {},
     "output_type": "execute_result"
    }
   ],
   "source": [
    "movies['type'].value_counts()"
   ]
  },
  {
   "cell_type": "code",
   "execution_count": 16,
   "id": "6a7f109f",
   "metadata": {},
   "outputs": [
    {
     "data": {
      "text/plain": [
       "show_id            0\n",
       "type               0\n",
       "title              0\n",
       "director        2389\n",
       "cast             718\n",
       "country          507\n",
       "date_added        10\n",
       "release_year       0\n",
       "rating             7\n",
       "duration           0\n",
       "listed_in          0\n",
       "description        0\n",
       "dtype: int64"
      ]
     },
     "execution_count": 16,
     "metadata": {},
     "output_type": "execute_result"
    }
   ],
   "source": [
    "movies.isnull().sum()"
   ]
  },
  {
   "cell_type": "code",
   "execution_count": 17,
   "id": "91c2b108",
   "metadata": {},
   "outputs": [
    {
     "data": {
      "text/html": [
       "<div>\n",
       "<style scoped>\n",
       "    .dataframe tbody tr th:only-of-type {\n",
       "        vertical-align: middle;\n",
       "    }\n",
       "\n",
       "    .dataframe tbody tr th {\n",
       "        vertical-align: top;\n",
       "    }\n",
       "\n",
       "    .dataframe thead th {\n",
       "        text-align: right;\n",
       "    }\n",
       "</style>\n",
       "<table border=\"1\" class=\"dataframe\">\n",
       "  <thead>\n",
       "    <tr style=\"text-align: right;\">\n",
       "      <th></th>\n",
       "      <th>show_id</th>\n",
       "      <th>type</th>\n",
       "      <th>title</th>\n",
       "      <th>director</th>\n",
       "      <th>cast</th>\n",
       "      <th>country</th>\n",
       "      <th>date_added</th>\n",
       "      <th>release_year</th>\n",
       "      <th>rating</th>\n",
       "      <th>duration</th>\n",
       "      <th>listed_in</th>\n",
       "      <th>description</th>\n",
       "    </tr>\n",
       "  </thead>\n",
       "  <tbody>\n",
       "    <tr>\n",
       "      <th>0</th>\n",
       "      <td>s1</td>\n",
       "      <td>TV Show</td>\n",
       "      <td>3%</td>\n",
       "      <td>NaN</td>\n",
       "      <td>João Miguel, Bianca Comparato, Michel Gomes, R...</td>\n",
       "      <td>Brazil</td>\n",
       "      <td>August 14, 2020</td>\n",
       "      <td>2020</td>\n",
       "      <td>TV-MA</td>\n",
       "      <td>4 Seasons</td>\n",
       "      <td>International TV Shows, TV Dramas, TV Sci-Fi &amp;...</td>\n",
       "      <td>In a future where the elite inhabit an island ...</td>\n",
       "    </tr>\n",
       "    <tr>\n",
       "      <th>5</th>\n",
       "      <td>s6</td>\n",
       "      <td>TV Show</td>\n",
       "      <td>46</td>\n",
       "      <td>Serdar Akar</td>\n",
       "      <td>Erdal Beşikçioğlu, Yasemin Allen, Melis Birkan...</td>\n",
       "      <td>Turkey</td>\n",
       "      <td>July 1, 2017</td>\n",
       "      <td>2016</td>\n",
       "      <td>TV-MA</td>\n",
       "      <td>1 Season</td>\n",
       "      <td>International TV Shows, TV Dramas, TV Mysteries</td>\n",
       "      <td>A genetics professor experiments with a treatm...</td>\n",
       "    </tr>\n",
       "    <tr>\n",
       "      <th>11</th>\n",
       "      <td>s12</td>\n",
       "      <td>TV Show</td>\n",
       "      <td>1983</td>\n",
       "      <td>NaN</td>\n",
       "      <td>Robert Więckiewicz, Maciej Musiał, Michalina O...</td>\n",
       "      <td>Poland, United States</td>\n",
       "      <td>November 30, 2018</td>\n",
       "      <td>2018</td>\n",
       "      <td>TV-MA</td>\n",
       "      <td>1 Season</td>\n",
       "      <td>Crime TV Shows, International TV Shows, TV Dramas</td>\n",
       "      <td>In this dark alt-history thriller, a naïve law...</td>\n",
       "    </tr>\n",
       "    <tr>\n",
       "      <th>12</th>\n",
       "      <td>s13</td>\n",
       "      <td>TV Show</td>\n",
       "      <td>1994</td>\n",
       "      <td>Diego Enrique Osorno</td>\n",
       "      <td>NaN</td>\n",
       "      <td>Mexico</td>\n",
       "      <td>May 17, 2019</td>\n",
       "      <td>2019</td>\n",
       "      <td>TV-MA</td>\n",
       "      <td>1 Season</td>\n",
       "      <td>Crime TV Shows, Docuseries, International TV S...</td>\n",
       "      <td>Archival video and new interviews examine Mexi...</td>\n",
       "    </tr>\n",
       "    <tr>\n",
       "      <th>16</th>\n",
       "      <td>s17</td>\n",
       "      <td>TV Show</td>\n",
       "      <td>Feb-09</td>\n",
       "      <td>NaN</td>\n",
       "      <td>Shahd El Yaseen, Shaila Sabt, Hala, Hanadi Al-...</td>\n",
       "      <td>NaN</td>\n",
       "      <td>March 20, 2019</td>\n",
       "      <td>2018</td>\n",
       "      <td>TV-14</td>\n",
       "      <td>1 Season</td>\n",
       "      <td>International TV Shows, TV Dramas</td>\n",
       "      <td>As a psychology professor faces Alzheimer's, h...</td>\n",
       "    </tr>\n",
       "    <tr>\n",
       "      <th>...</th>\n",
       "      <td>...</td>\n",
       "      <td>...</td>\n",
       "      <td>...</td>\n",
       "      <td>...</td>\n",
       "      <td>...</td>\n",
       "      <td>...</td>\n",
       "      <td>...</td>\n",
       "      <td>...</td>\n",
       "      <td>...</td>\n",
       "      <td>...</td>\n",
       "      <td>...</td>\n",
       "      <td>...</td>\n",
       "    </tr>\n",
       "    <tr>\n",
       "      <th>7767</th>\n",
       "      <td>s7768</td>\n",
       "      <td>TV Show</td>\n",
       "      <td>Zindagi Gulzar Hai</td>\n",
       "      <td>NaN</td>\n",
       "      <td>Sanam Saeed, Fawad Khan, Ayesha Omer, Mehreen ...</td>\n",
       "      <td>Pakistan</td>\n",
       "      <td>December 15, 2016</td>\n",
       "      <td>2012</td>\n",
       "      <td>TV-PG</td>\n",
       "      <td>1 Season</td>\n",
       "      <td>International TV Shows, Romantic TV Shows, TV ...</td>\n",
       "      <td>Strong-willed, middle-class Kashaf and carefre...</td>\n",
       "    </tr>\n",
       "    <tr>\n",
       "      <th>7775</th>\n",
       "      <td>s7776</td>\n",
       "      <td>TV Show</td>\n",
       "      <td>Zoids Wild</td>\n",
       "      <td>NaN</td>\n",
       "      <td>Kensho Ono, Takahiro Sakurai, Mikako Komatsu, ...</td>\n",
       "      <td>Japan</td>\n",
       "      <td>August 14, 2020</td>\n",
       "      <td>2018</td>\n",
       "      <td>TV-Y7</td>\n",
       "      <td>1 Season</td>\n",
       "      <td>Anime Series, Kids' TV</td>\n",
       "      <td>A quest for freedom and legendary treasure beg...</td>\n",
       "    </tr>\n",
       "    <tr>\n",
       "      <th>7777</th>\n",
       "      <td>s7778</td>\n",
       "      <td>TV Show</td>\n",
       "      <td>Zombie Dumb</td>\n",
       "      <td>NaN</td>\n",
       "      <td>NaN</td>\n",
       "      <td>NaN</td>\n",
       "      <td>July 1, 2019</td>\n",
       "      <td>2018</td>\n",
       "      <td>TV-Y7</td>\n",
       "      <td>2 Seasons</td>\n",
       "      <td>Kids' TV, Korean TV Shows, TV Comedies</td>\n",
       "      <td>While living alone in a spooky town, a young g...</td>\n",
       "    </tr>\n",
       "    <tr>\n",
       "      <th>7779</th>\n",
       "      <td>s7780</td>\n",
       "      <td>TV Show</td>\n",
       "      <td>Zona Rosa</td>\n",
       "      <td>NaN</td>\n",
       "      <td>Manu NNa, Ana Julia Yeyé, Ray Contreras, Pablo...</td>\n",
       "      <td>Mexico</td>\n",
       "      <td>November 26, 2019</td>\n",
       "      <td>2019</td>\n",
       "      <td>TV-MA</td>\n",
       "      <td>1 Season</td>\n",
       "      <td>International TV Shows, Spanish-Language TV Sh...</td>\n",
       "      <td>An assortment of talent takes the stage for a ...</td>\n",
       "    </tr>\n",
       "    <tr>\n",
       "      <th>7785</th>\n",
       "      <td>s7786</td>\n",
       "      <td>TV Show</td>\n",
       "      <td>Zumbo's Just Desserts</td>\n",
       "      <td>NaN</td>\n",
       "      <td>Adriano Zumbo, Rachel Khoo</td>\n",
       "      <td>Australia</td>\n",
       "      <td>October 31, 2020</td>\n",
       "      <td>2019</td>\n",
       "      <td>TV-PG</td>\n",
       "      <td>1 Season</td>\n",
       "      <td>International TV Shows, Reality TV</td>\n",
       "      <td>Dessert wizard Adriano Zumbo looks for the nex...</td>\n",
       "    </tr>\n",
       "  </tbody>\n",
       "</table>\n",
       "<p>2410 rows × 12 columns</p>\n",
       "</div>"
      ],
      "text/plain": [
       "     show_id     type                  title              director  \\\n",
       "0         s1  TV Show                     3%                   NaN   \n",
       "5         s6  TV Show                     46           Serdar Akar   \n",
       "11       s12  TV Show                   1983                   NaN   \n",
       "12       s13  TV Show                   1994  Diego Enrique Osorno   \n",
       "16       s17  TV Show                 Feb-09                   NaN   \n",
       "...      ...      ...                    ...                   ...   \n",
       "7767   s7768  TV Show     Zindagi Gulzar Hai                   NaN   \n",
       "7775   s7776  TV Show             Zoids Wild                   NaN   \n",
       "7777   s7778  TV Show            Zombie Dumb                   NaN   \n",
       "7779   s7780  TV Show              Zona Rosa                   NaN   \n",
       "7785   s7786  TV Show  Zumbo's Just Desserts                   NaN   \n",
       "\n",
       "                                                   cast  \\\n",
       "0     João Miguel, Bianca Comparato, Michel Gomes, R...   \n",
       "5     Erdal Beşikçioğlu, Yasemin Allen, Melis Birkan...   \n",
       "11    Robert Więckiewicz, Maciej Musiał, Michalina O...   \n",
       "12                                                  NaN   \n",
       "16    Shahd El Yaseen, Shaila Sabt, Hala, Hanadi Al-...   \n",
       "...                                                 ...   \n",
       "7767  Sanam Saeed, Fawad Khan, Ayesha Omer, Mehreen ...   \n",
       "7775  Kensho Ono, Takahiro Sakurai, Mikako Komatsu, ...   \n",
       "7777                                                NaN   \n",
       "7779  Manu NNa, Ana Julia Yeyé, Ray Contreras, Pablo...   \n",
       "7785                         Adriano Zumbo, Rachel Khoo   \n",
       "\n",
       "                    country         date_added  release_year rating  \\\n",
       "0                    Brazil    August 14, 2020          2020  TV-MA   \n",
       "5                    Turkey       July 1, 2017          2016  TV-MA   \n",
       "11    Poland, United States  November 30, 2018          2018  TV-MA   \n",
       "12                   Mexico       May 17, 2019          2019  TV-MA   \n",
       "16                      NaN     March 20, 2019          2018  TV-14   \n",
       "...                     ...                ...           ...    ...   \n",
       "7767               Pakistan  December 15, 2016          2012  TV-PG   \n",
       "7775                  Japan    August 14, 2020          2018  TV-Y7   \n",
       "7777                    NaN       July 1, 2019          2018  TV-Y7   \n",
       "7779                 Mexico  November 26, 2019          2019  TV-MA   \n",
       "7785              Australia   October 31, 2020          2019  TV-PG   \n",
       "\n",
       "       duration                                          listed_in  \\\n",
       "0     4 Seasons  International TV Shows, TV Dramas, TV Sci-Fi &...   \n",
       "5      1 Season    International TV Shows, TV Dramas, TV Mysteries   \n",
       "11     1 Season  Crime TV Shows, International TV Shows, TV Dramas   \n",
       "12     1 Season  Crime TV Shows, Docuseries, International TV S...   \n",
       "16     1 Season                  International TV Shows, TV Dramas   \n",
       "...         ...                                                ...   \n",
       "7767   1 Season  International TV Shows, Romantic TV Shows, TV ...   \n",
       "7775   1 Season                             Anime Series, Kids' TV   \n",
       "7777  2 Seasons             Kids' TV, Korean TV Shows, TV Comedies   \n",
       "7779   1 Season  International TV Shows, Spanish-Language TV Sh...   \n",
       "7785   1 Season                 International TV Shows, Reality TV   \n",
       "\n",
       "                                            description  \n",
       "0     In a future where the elite inhabit an island ...  \n",
       "5     A genetics professor experiments with a treatm...  \n",
       "11    In this dark alt-history thriller, a naïve law...  \n",
       "12    Archival video and new interviews examine Mexi...  \n",
       "16    As a psychology professor faces Alzheimer's, h...  \n",
       "...                                                 ...  \n",
       "7767  Strong-willed, middle-class Kashaf and carefre...  \n",
       "7775  A quest for freedom and legendary treasure beg...  \n",
       "7777  While living alone in a spooky town, a young g...  \n",
       "7779  An assortment of talent takes the stage for a ...  \n",
       "7785  Dessert wizard Adriano Zumbo looks for the nex...  \n",
       "\n",
       "[2410 rows x 12 columns]"
      ]
     },
     "execution_count": 17,
     "metadata": {},
     "output_type": "execute_result"
    }
   ],
   "source": [
    "movies[movies['type']=='TV Show']"
   ]
  },
  {
   "cell_type": "code",
   "execution_count": 22,
   "id": "27070324",
   "metadata": {},
   "outputs": [
    {
     "data": {
      "text/html": [
       "<div>\n",
       "<style scoped>\n",
       "    .dataframe tbody tr th:only-of-type {\n",
       "        vertical-align: middle;\n",
       "    }\n",
       "\n",
       "    .dataframe tbody tr th {\n",
       "        vertical-align: top;\n",
       "    }\n",
       "\n",
       "    .dataframe thead th {\n",
       "        text-align: right;\n",
       "    }\n",
       "</style>\n",
       "<table border=\"1\" class=\"dataframe\">\n",
       "  <thead>\n",
       "    <tr style=\"text-align: right;\">\n",
       "      <th></th>\n",
       "      <th>show_id</th>\n",
       "      <th>type</th>\n",
       "      <th>title</th>\n",
       "      <th>director</th>\n",
       "      <th>cast</th>\n",
       "      <th>country</th>\n",
       "      <th>date_added</th>\n",
       "      <th>release_year</th>\n",
       "      <th>rating</th>\n",
       "      <th>duration</th>\n",
       "      <th>listed_in</th>\n",
       "      <th>description</th>\n",
       "    </tr>\n",
       "  </thead>\n",
       "  <tbody>\n",
       "    <tr>\n",
       "      <th>2864</th>\n",
       "      <td>s2865</td>\n",
       "      <td>TV Show</td>\n",
       "      <td>Humsafar</td>\n",
       "      <td>NaN</td>\n",
       "      <td>Fawad Khan, Mahira Khan, Atiqa Odho, Naveen Wa...</td>\n",
       "      <td>Pakistan</td>\n",
       "      <td>December 15, 2016</td>\n",
       "      <td>2011</td>\n",
       "      <td>TV-PG</td>\n",
       "      <td>1 Season</td>\n",
       "      <td>International TV Shows, Romantic TV Shows, TV ...</td>\n",
       "      <td>To fulfill her mother's dying wish, middle-cla...</td>\n",
       "    </tr>\n",
       "    <tr>\n",
       "      <th>3352</th>\n",
       "      <td>s3353</td>\n",
       "      <td>TV Show</td>\n",
       "      <td>Khaani</td>\n",
       "      <td>NaN</td>\n",
       "      <td>Feroze Khan, Sana Javed, Mehmood Aslam, Saman ...</td>\n",
       "      <td>Pakistan</td>\n",
       "      <td>August 1, 2019</td>\n",
       "      <td>2017</td>\n",
       "      <td>TV-14</td>\n",
       "      <td>1 Season</td>\n",
       "      <td>Crime TV Shows, International TV Shows, Romant...</td>\n",
       "      <td>After a rich politician's son kills a young wo...</td>\n",
       "    </tr>\n",
       "    <tr>\n",
       "      <th>5337</th>\n",
       "      <td>s5338</td>\n",
       "      <td>TV Show</td>\n",
       "      <td>Sadqay Tumhare</td>\n",
       "      <td>Ehtesham Uddin</td>\n",
       "      <td>Mahira Khan, Samiya Mumtaz, Adnan Malik, Rehan...</td>\n",
       "      <td>Pakistan</td>\n",
       "      <td>December 15, 2016</td>\n",
       "      <td>2014</td>\n",
       "      <td>TV-PG</td>\n",
       "      <td>1 Season</td>\n",
       "      <td>International TV Shows, Romantic TV Shows, TV ...</td>\n",
       "      <td>An arranged engagement between a village girl ...</td>\n",
       "    </tr>\n",
       "    <tr>\n",
       "      <th>7767</th>\n",
       "      <td>s7768</td>\n",
       "      <td>TV Show</td>\n",
       "      <td>Zindagi Gulzar Hai</td>\n",
       "      <td>NaN</td>\n",
       "      <td>Sanam Saeed, Fawad Khan, Ayesha Omer, Mehreen ...</td>\n",
       "      <td>Pakistan</td>\n",
       "      <td>December 15, 2016</td>\n",
       "      <td>2012</td>\n",
       "      <td>TV-PG</td>\n",
       "      <td>1 Season</td>\n",
       "      <td>International TV Shows, Romantic TV Shows, TV ...</td>\n",
       "      <td>Strong-willed, middle-class Kashaf and carefre...</td>\n",
       "    </tr>\n",
       "  </tbody>\n",
       "</table>\n",
       "</div>"
      ],
      "text/plain": [
       "     show_id     type               title        director  \\\n",
       "2864   s2865  TV Show            Humsafar             NaN   \n",
       "3352   s3353  TV Show              Khaani             NaN   \n",
       "5337   s5338  TV Show      Sadqay Tumhare  Ehtesham Uddin   \n",
       "7767   s7768  TV Show  Zindagi Gulzar Hai             NaN   \n",
       "\n",
       "                                                   cast   country  \\\n",
       "2864  Fawad Khan, Mahira Khan, Atiqa Odho, Naveen Wa...  Pakistan   \n",
       "3352  Feroze Khan, Sana Javed, Mehmood Aslam, Saman ...  Pakistan   \n",
       "5337  Mahira Khan, Samiya Mumtaz, Adnan Malik, Rehan...  Pakistan   \n",
       "7767  Sanam Saeed, Fawad Khan, Ayesha Omer, Mehreen ...  Pakistan   \n",
       "\n",
       "             date_added  release_year rating  duration  \\\n",
       "2864  December 15, 2016          2011  TV-PG  1 Season   \n",
       "3352     August 1, 2019          2017  TV-14  1 Season   \n",
       "5337  December 15, 2016          2014  TV-PG  1 Season   \n",
       "7767  December 15, 2016          2012  TV-PG  1 Season   \n",
       "\n",
       "                                              listed_in  \\\n",
       "2864  International TV Shows, Romantic TV Shows, TV ...   \n",
       "3352  Crime TV Shows, International TV Shows, Romant...   \n",
       "5337  International TV Shows, Romantic TV Shows, TV ...   \n",
       "7767  International TV Shows, Romantic TV Shows, TV ...   \n",
       "\n",
       "                                            description  \n",
       "2864  To fulfill her mother's dying wish, middle-cla...  \n",
       "3352  After a rich politician's son kills a young wo...  \n",
       "5337  An arranged engagement between a village girl ...  \n",
       "7767  Strong-willed, middle-class Kashaf and carefre...  "
      ]
     },
     "execution_count": 22,
     "metadata": {},
     "output_type": "execute_result"
    }
   ],
   "source": [
    "movies[(movies['country']=='Pakistan') & (movies['type']=='TV Show')]"
   ]
  },
  {
   "cell_type": "code",
   "execution_count": 25,
   "id": "4b3aae6a",
   "metadata": {},
   "outputs": [],
   "source": [
    "movies.dropna(inplace=True)"
   ]
  },
  {
   "cell_type": "code",
   "execution_count": 26,
   "id": "32eba804",
   "metadata": {},
   "outputs": [
    {
     "data": {
      "text/plain": [
       "(4808, 12)"
      ]
     },
     "execution_count": 26,
     "metadata": {},
     "output_type": "execute_result"
    }
   ],
   "source": [
    "movies.shape"
   ]
  },
  {
   "cell_type": "code",
   "execution_count": 27,
   "id": "def48abe",
   "metadata": {},
   "outputs": [
    {
     "data": {
      "text/plain": [
       "Movie      4673\n",
       "TV Show     135\n",
       "Name: type, dtype: int64"
      ]
     },
     "execution_count": 27,
     "metadata": {},
     "output_type": "execute_result"
    }
   ],
   "source": [
    "movies['type'].value_counts()"
   ]
  },
  {
   "cell_type": "code",
   "execution_count": 28,
   "id": "0e1c24c0",
   "metadata": {},
   "outputs": [
    {
     "name": "stdout",
     "output_type": "stream",
     "text": [
      "<class 'pandas.core.frame.DataFrame'>\n",
      "Int64Index: 4808 entries, 1 to 7783\n",
      "Data columns (total 12 columns):\n",
      " #   Column        Non-Null Count  Dtype \n",
      "---  ------        --------------  ----- \n",
      " 0   show_id       4808 non-null   object\n",
      " 1   type          4808 non-null   object\n",
      " 2   title         4808 non-null   object\n",
      " 3   director      4808 non-null   object\n",
      " 4   cast          4808 non-null   object\n",
      " 5   country       4808 non-null   object\n",
      " 6   date_added    4808 non-null   object\n",
      " 7   release_year  4808 non-null   int64 \n",
      " 8   rating        4808 non-null   object\n",
      " 9   duration      4808 non-null   object\n",
      " 10  listed_in     4808 non-null   object\n",
      " 11  description   4808 non-null   object\n",
      "dtypes: int64(1), object(11)\n",
      "memory usage: 488.3+ KB\n"
     ]
    }
   ],
   "source": [
    "movies.info()"
   ]
  },
  {
   "cell_type": "code",
   "execution_count": 29,
   "id": "78cf7a3e",
   "metadata": {},
   "outputs": [],
   "source": [
    "df=movies[['show_id','type','title','director','cast','listed_in','description']]"
   ]
  },
  {
   "cell_type": "code",
   "execution_count": 30,
   "id": "fd491390",
   "metadata": {},
   "outputs": [
    {
     "data": {
      "text/html": [
       "<div>\n",
       "<style scoped>\n",
       "    .dataframe tbody tr th:only-of-type {\n",
       "        vertical-align: middle;\n",
       "    }\n",
       "\n",
       "    .dataframe tbody tr th {\n",
       "        vertical-align: top;\n",
       "    }\n",
       "\n",
       "    .dataframe thead th {\n",
       "        text-align: right;\n",
       "    }\n",
       "</style>\n",
       "<table border=\"1\" class=\"dataframe\">\n",
       "  <thead>\n",
       "    <tr style=\"text-align: right;\">\n",
       "      <th></th>\n",
       "      <th>show_id</th>\n",
       "      <th>type</th>\n",
       "      <th>title</th>\n",
       "      <th>director</th>\n",
       "      <th>cast</th>\n",
       "      <th>listed_in</th>\n",
       "      <th>description</th>\n",
       "    </tr>\n",
       "  </thead>\n",
       "  <tbody>\n",
       "    <tr>\n",
       "      <th>1</th>\n",
       "      <td>s2</td>\n",
       "      <td>Movie</td>\n",
       "      <td>07:19</td>\n",
       "      <td>Jorge Michel Grau</td>\n",
       "      <td>Demián Bichir, Héctor Bonilla, Oscar Serrano, ...</td>\n",
       "      <td>Dramas, International Movies</td>\n",
       "      <td>After a devastating earthquake hits Mexico Cit...</td>\n",
       "    </tr>\n",
       "    <tr>\n",
       "      <th>2</th>\n",
       "      <td>s3</td>\n",
       "      <td>Movie</td>\n",
       "      <td>23:59</td>\n",
       "      <td>Gilbert Chan</td>\n",
       "      <td>Tedd Chan, Stella Chung, Henley Hii, Lawrence ...</td>\n",
       "      <td>Horror Movies, International Movies</td>\n",
       "      <td>When an army recruit is found dead, his fellow...</td>\n",
       "    </tr>\n",
       "    <tr>\n",
       "      <th>3</th>\n",
       "      <td>s4</td>\n",
       "      <td>Movie</td>\n",
       "      <td>9</td>\n",
       "      <td>Shane Acker</td>\n",
       "      <td>Elijah Wood, John C. Reilly, Jennifer Connelly...</td>\n",
       "      <td>Action &amp; Adventure, Independent Movies, Sci-Fi...</td>\n",
       "      <td>In a postapocalyptic world, rag-doll robots hi...</td>\n",
       "    </tr>\n",
       "    <tr>\n",
       "      <th>4</th>\n",
       "      <td>s5</td>\n",
       "      <td>Movie</td>\n",
       "      <td>21</td>\n",
       "      <td>Robert Luketic</td>\n",
       "      <td>Jim Sturgess, Kevin Spacey, Kate Bosworth, Aar...</td>\n",
       "      <td>Dramas</td>\n",
       "      <td>A brilliant group of students become card-coun...</td>\n",
       "    </tr>\n",
       "    <tr>\n",
       "      <th>5</th>\n",
       "      <td>s6</td>\n",
       "      <td>TV Show</td>\n",
       "      <td>46</td>\n",
       "      <td>Serdar Akar</td>\n",
       "      <td>Erdal Beşikçioğlu, Yasemin Allen, Melis Birkan...</td>\n",
       "      <td>International TV Shows, TV Dramas, TV Mysteries</td>\n",
       "      <td>A genetics professor experiments with a treatm...</td>\n",
       "    </tr>\n",
       "  </tbody>\n",
       "</table>\n",
       "</div>"
      ],
      "text/plain": [
       "  show_id     type  title           director  \\\n",
       "1      s2    Movie  07:19  Jorge Michel Grau   \n",
       "2      s3    Movie  23:59       Gilbert Chan   \n",
       "3      s4    Movie      9        Shane Acker   \n",
       "4      s5    Movie     21     Robert Luketic   \n",
       "5      s6  TV Show     46        Serdar Akar   \n",
       "\n",
       "                                                cast  \\\n",
       "1  Demián Bichir, Héctor Bonilla, Oscar Serrano, ...   \n",
       "2  Tedd Chan, Stella Chung, Henley Hii, Lawrence ...   \n",
       "3  Elijah Wood, John C. Reilly, Jennifer Connelly...   \n",
       "4  Jim Sturgess, Kevin Spacey, Kate Bosworth, Aar...   \n",
       "5  Erdal Beşikçioğlu, Yasemin Allen, Melis Birkan...   \n",
       "\n",
       "                                           listed_in  \\\n",
       "1                       Dramas, International Movies   \n",
       "2                Horror Movies, International Movies   \n",
       "3  Action & Adventure, Independent Movies, Sci-Fi...   \n",
       "4                                             Dramas   \n",
       "5    International TV Shows, TV Dramas, TV Mysteries   \n",
       "\n",
       "                                         description  \n",
       "1  After a devastating earthquake hits Mexico Cit...  \n",
       "2  When an army recruit is found dead, his fellow...  \n",
       "3  In a postapocalyptic world, rag-doll robots hi...  \n",
       "4  A brilliant group of students become card-coun...  \n",
       "5  A genetics professor experiments with a treatm...  "
      ]
     },
     "execution_count": 30,
     "metadata": {},
     "output_type": "execute_result"
    }
   ],
   "source": [
    "df.head()"
   ]
  },
  {
   "cell_type": "code",
   "execution_count": 31,
   "id": "9bf53054",
   "metadata": {},
   "outputs": [
    {
     "data": {
      "text/plain": [
       "'International TV Shows, TV Dramas, TV Mysteries'"
      ]
     },
     "execution_count": 31,
     "metadata": {},
     "output_type": "execute_result"
    }
   ],
   "source": [
    "df['listed_in'][5]"
   ]
  },
  {
   "cell_type": "code",
   "execution_count": 36,
   "id": "44b31ded",
   "metadata": {},
   "outputs": [],
   "source": [
    "def cast_filter(obj):\n",
    "    l= obj.split(',')[0:3]\n",
    "    s=' '.join(map(str,l))\n",
    "    return s"
   ]
  },
  {
   "cell_type": "code",
   "execution_count": 32,
   "id": "8fc4fc4c",
   "metadata": {},
   "outputs": [],
   "source": [
    "s=df['cast'][1]"
   ]
  },
  {
   "cell_type": "code",
   "execution_count": 37,
   "id": "1916aabd",
   "metadata": {},
   "outputs": [
    {
     "data": {
      "text/plain": [
       "'Demián Bichir, Héctor Bonilla, Oscar Serrano, Azalia Ortiz, Octavio Michel, Carmen Beato'"
      ]
     },
     "execution_count": 37,
     "metadata": {},
     "output_type": "execute_result"
    }
   ],
   "source": [
    "s"
   ]
  },
  {
   "cell_type": "code",
   "execution_count": null,
   "id": "e73715b8",
   "metadata": {},
   "outputs": [],
   "source": []
  },
  {
   "cell_type": "code",
   "execution_count": 38,
   "id": "7f892755",
   "metadata": {},
   "outputs": [],
   "source": [
    "k=cast_filter(s)"
   ]
  },
  {
   "cell_type": "code",
   "execution_count": 39,
   "id": "bbc734b0",
   "metadata": {},
   "outputs": [
    {
     "data": {
      "text/plain": [
       "'Demián Bichir  Héctor Bonilla  Oscar Serrano'"
      ]
     },
     "execution_count": 39,
     "metadata": {},
     "output_type": "execute_result"
    }
   ],
   "source": [
    "k"
   ]
  },
  {
   "cell_type": "code",
   "execution_count": 41,
   "id": "7eabd164",
   "metadata": {},
   "outputs": [
    {
     "data": {
      "text/plain": [
       "'Erdal Beşikçioğlu  Yasemin Allen  Melis Birkan'"
      ]
     },
     "execution_count": 41,
     "metadata": {},
     "output_type": "execute_result"
    }
   ],
   "source": [
    "cast_filter(df['cast'][5])"
   ]
  },
  {
   "cell_type": "code",
   "execution_count": null,
   "id": "1b175392",
   "metadata": {},
   "outputs": [],
   "source": []
  },
  {
   "cell_type": "code",
   "execution_count": 81,
   "id": "b1096943",
   "metadata": {},
   "outputs": [
    {
     "data": {
      "text/plain": [
       "'Demián Bichir, Héctor Bonilla, Oscar Serrano, Azalia Ortiz, Octavio Michel, Carmen Beato'"
      ]
     },
     "execution_count": 81,
     "metadata": {},
     "output_type": "execute_result"
    }
   ],
   "source": [
    "df['cast'][1]"
   ]
  },
  {
   "cell_type": "code",
   "execution_count": 85,
   "id": "4a55ae97",
   "metadata": {},
   "outputs": [
    {
     "data": {
      "text/plain": [
       "1       Demián Bichir, Héctor Bonilla, Oscar Serrano, ...\n",
       "2       Tedd Chan, Stella Chung, Henley Hii, Lawrence ...\n",
       "3       Elijah Wood, John C. Reilly, Jennifer Connelly...\n",
       "4       Jim Sturgess, Kevin Spacey, Kate Bosworth, Aar...\n",
       "5       Erdal Beşikçioğlu, Yasemin Allen, Melis Birkan...\n",
       "                              ...                        \n",
       "7778    Jesse Eisenberg, Woody Harrelson, Emma Stone, ...\n",
       "7780    Shashank Arora, Shweta Tripathi, Rahul Kumar, ...\n",
       "7781    Tim Allen, Courteney Cox, Chevy Chase, Kate Ma...\n",
       "7782    Imad Creidi, Antoinette Turk, Elias Gergi, Car...\n",
       "7783    Vicky Kaushal, Sarah-Jane Dias, Raaghav Chanan...\n",
       "Name: cast, Length: 4808, dtype: object"
      ]
     },
     "execution_count": 85,
     "metadata": {},
     "output_type": "execute_result"
    }
   ],
   "source": [
    "df['cast']"
   ]
  },
  {
   "cell_type": "code",
   "execution_count": 88,
   "id": "1d137333",
   "metadata": {},
   "outputs": [
    {
     "data": {
      "text/plain": [
       "1       Demián Bichir, Héctor Bonilla, Oscar Serrano, ...\n",
       "2       Tedd Chan, Stella Chung, Henley Hii, Lawrence ...\n",
       "3       Elijah Wood, John C. Reilly, Jennifer Connelly...\n",
       "4       Jim Sturgess, Kevin Spacey, Kate Bosworth, Aar...\n",
       "5       Erdal Beşikçioğlu, Yasemin Allen, Melis Birkan...\n",
       "                              ...                        \n",
       "7778    Jesse Eisenberg, Woody Harrelson, Emma Stone, ...\n",
       "7780    Shashank Arora, Shweta Tripathi, Rahul Kumar, ...\n",
       "7781    Tim Allen, Courteney Cox, Chevy Chase, Kate Ma...\n",
       "7782    Imad Creidi, Antoinette Turk, Elias Gergi, Car...\n",
       "7783    Vicky Kaushal, Sarah-Jane Dias, Raaghav Chanan...\n",
       "Name: cast, Length: 4808, dtype: object"
      ]
     },
     "execution_count": 88,
     "metadata": {},
     "output_type": "execute_result"
    }
   ],
   "source": [
    "df['cast']"
   ]
  },
  {
   "cell_type": "code",
   "execution_count": 91,
   "id": "5dc1da2c",
   "metadata": {},
   "outputs": [
    {
     "data": {
      "text/plain": [
       "1                            Dramas, International Movies\n",
       "2                     Horror Movies, International Movies\n",
       "3       Action & Adventure, Independent Movies, Sci-Fi...\n",
       "4                                                  Dramas\n",
       "5         International TV Shows, TV Dramas, TV Mysteries\n",
       "                              ...                        \n",
       "7778                              Comedies, Horror Movies\n",
       "7780     Dramas, Independent Movies, International Movies\n",
       "7781                   Children & Family Movies, Comedies\n",
       "7782                         Dramas, International Movies\n",
       "7783       Dramas, International Movies, Music & Musicals\n",
       "Name: listed_in, Length: 4808, dtype: object"
      ]
     },
     "execution_count": 91,
     "metadata": {},
     "output_type": "execute_result"
    }
   ],
   "source": [
    "df['listed_in']"
   ]
  },
  {
   "cell_type": "code",
   "execution_count": 96,
   "id": "5441062b",
   "metadata": {},
   "outputs": [
    {
     "data": {
      "text/plain": [
       "'In a postapocalyptic world, rag-doll robots hide in fear from dangerous machines out to exterminate them, until a brave newcomer joins the group.'"
      ]
     },
     "execution_count": 96,
     "metadata": {},
     "output_type": "execute_result"
    }
   ],
   "source": [
    "df['description'][3]"
   ]
  },
  {
   "cell_type": "code",
   "execution_count": null,
   "id": "f1e56861",
   "metadata": {},
   "outputs": [],
   "source": []
  },
  {
   "cell_type": "code",
   "execution_count": 98,
   "id": "dab943ba",
   "metadata": {},
   "outputs": [
    {
     "data": {
      "text/plain": [
       "1       Jorge Michel Grau\n",
       "2            Gilbert Chan\n",
       "3             Shane Acker\n",
       "4          Robert Luketic\n",
       "5             Serdar Akar\n",
       "              ...        \n",
       "7778      Ruben Fleischer\n",
       "7780         Shlok Sharma\n",
       "7781         Peter Hewitt\n",
       "7782          Josef Fares\n",
       "7783          Mozez Singh\n",
       "Name: director, Length: 4808, dtype: object"
      ]
     },
     "execution_count": 98,
     "metadata": {},
     "output_type": "execute_result"
    }
   ],
   "source": [
    "df['director']"
   ]
  },
  {
   "cell_type": "code",
   "execution_count": null,
   "id": "9784efa6",
   "metadata": {},
   "outputs": [],
   "source": []
  },
  {
   "cell_type": "code",
   "execution_count": 120,
   "id": "f9913dc1",
   "metadata": {},
   "outputs": [],
   "source": [
    "l=df['listed_in'][1]"
   ]
  },
  {
   "cell_type": "code",
   "execution_count": 121,
   "id": "cb915919",
   "metadata": {},
   "outputs": [
    {
     "data": {
      "text/plain": [
       "'Dramas, International Movies'"
      ]
     },
     "execution_count": 121,
     "metadata": {},
     "output_type": "execute_result"
    }
   ],
   "source": [
    "l"
   ]
  },
  {
   "cell_type": "code",
   "execution_count": 111,
   "id": "293115ae",
   "metadata": {},
   "outputs": [],
   "source": [
    "d=df['director'][1]"
   ]
  },
  {
   "cell_type": "code",
   "execution_count": 112,
   "id": "5d1e6189",
   "metadata": {},
   "outputs": [
    {
     "data": {
      "text/plain": [
       "'Jorge Michel Grau'"
      ]
     },
     "execution_count": 112,
     "metadata": {},
     "output_type": "execute_result"
    }
   ],
   "source": [
    "d"
   ]
  },
  {
   "cell_type": "code",
   "execution_count": 113,
   "id": "8e7c7f49",
   "metadata": {},
   "outputs": [
    {
     "data": {
      "text/plain": [
       "str"
      ]
     },
     "execution_count": 113,
     "metadata": {},
     "output_type": "execute_result"
    }
   ],
   "source": [
    "type(d)"
   ]
  },
  {
   "cell_type": "code",
   "execution_count": 118,
   "id": "20421a32",
   "metadata": {},
   "outputs": [],
   "source": [
    "## To remove the space and change it in none\n",
    "def space_hide(s):\n",
    "    return (s.replace(\" \",\"\"))"
   ]
  },
  {
   "cell_type": "code",
   "execution_count": 119,
   "id": "cd49f526",
   "metadata": {},
   "outputs": [
    {
     "data": {
      "text/plain": [
       "'JorgeMichelGrau'"
      ]
     },
     "execution_count": 119,
     "metadata": {},
     "output_type": "execute_result"
    }
   ],
   "source": [
    "space_hide(d)"
   ]
  },
  {
   "cell_type": "code",
   "execution_count": 116,
   "id": "6c076a0f",
   "metadata": {},
   "outputs": [
    {
     "data": {
      "text/plain": [
       "'JorgeMichelGrau'"
      ]
     },
     "execution_count": 116,
     "metadata": {},
     "output_type": "execute_result"
    }
   ],
   "source": [
    "d.replace(\" \",\"\")"
   ]
  },
  {
   "cell_type": "code",
   "execution_count": 122,
   "id": "cdfd302e",
   "metadata": {},
   "outputs": [],
   "source": [
    "c=df['cast'][1]"
   ]
  },
  {
   "cell_type": "code",
   "execution_count": 123,
   "id": "fed15db7",
   "metadata": {},
   "outputs": [
    {
     "data": {
      "text/plain": [
       "'DemiánBichir,HéctorBonilla,OscarSerrano,AzaliaOrtiz,OctavioMichel,CarmenBeato'"
      ]
     },
     "execution_count": 123,
     "metadata": {},
     "output_type": "execute_result"
    }
   ],
   "source": [
    "space_hide(c)"
   ]
  },
  {
   "cell_type": "code",
   "execution_count": 126,
   "id": "ebadcb9d",
   "metadata": {},
   "outputs": [
    {
     "name": "stderr",
     "output_type": "stream",
     "text": [
      "C:\\Users\\91789\\AppData\\Local\\Temp/ipykernel_7636/960605492.py:1: SettingWithCopyWarning: \n",
      "A value is trying to be set on a copy of a slice from a DataFrame.\n",
      "Try using .loc[row_indexer,col_indexer] = value instead\n",
      "\n",
      "See the caveats in the documentation: https://pandas.pydata.org/pandas-docs/stable/user_guide/indexing.html#returning-a-view-versus-a-copy\n",
      "  df['director']=df['director'].apply(space_hide)\n"
     ]
    }
   ],
   "source": [
    "df['director']=df['director'].apply(space_hide)"
   ]
  },
  {
   "cell_type": "code",
   "execution_count": 129,
   "id": "f2e401df",
   "metadata": {},
   "outputs": [
    {
     "name": "stderr",
     "output_type": "stream",
     "text": [
      "C:\\Users\\91789\\AppData\\Local\\Temp/ipykernel_7636/1038517317.py:1: SettingWithCopyWarning: \n",
      "A value is trying to be set on a copy of a slice from a DataFrame.\n",
      "Try using .loc[row_indexer,col_indexer] = value instead\n",
      "\n",
      "See the caveats in the documentation: https://pandas.pydata.org/pandas-docs/stable/user_guide/indexing.html#returning-a-view-versus-a-copy\n",
      "  df['cast']=df['cast'].apply(space_hide)\n"
     ]
    }
   ],
   "source": [
    "df['cast']=df['cast'].apply(space_hide)"
   ]
  },
  {
   "cell_type": "code",
   "execution_count": 130,
   "id": "08d85374",
   "metadata": {},
   "outputs": [
    {
     "data": {
      "text/plain": [
       "1       DemiánBichir,HéctorBonilla,OscarSerrano,Azalia...\n",
       "2       TeddChan,StellaChung,HenleyHii,LawrenceKoh,Tom...\n",
       "3       ElijahWood,JohnC.Reilly,JenniferConnelly,Chris...\n",
       "4       JimSturgess,KevinSpacey,KateBosworth,AaronYoo,...\n",
       "5       ErdalBeşikçioğlu,YaseminAllen,MelisBirkan,Sayg...\n",
       "                              ...                        \n",
       "7778    JesseEisenberg,WoodyHarrelson,EmmaStone,Abigai...\n",
       "7780    ShashankArora,ShwetaTripathi,RahulKumar,GopalK...\n",
       "7781    TimAllen,CourteneyCox,ChevyChase,KateMara,Ryan...\n",
       "7782    ImadCreidi,AntoinetteTurk,EliasGergi,CarmenLeb...\n",
       "7783    VickyKaushal,Sarah-JaneDias,RaaghavChanana,Man...\n",
       "Name: cast, Length: 4808, dtype: object"
      ]
     },
     "execution_count": 130,
     "metadata": {},
     "output_type": "execute_result"
    }
   ],
   "source": [
    "df['cast']"
   ]
  },
  {
   "cell_type": "code",
   "execution_count": 42,
   "id": "26f28e58",
   "metadata": {},
   "outputs": [
    {
     "name": "stderr",
     "output_type": "stream",
     "text": [
      "C:\\Users\\91789\\AppData\\Local\\Temp/ipykernel_8212/1905651824.py:1: SettingWithCopyWarning: \n",
      "A value is trying to be set on a copy of a slice from a DataFrame.\n",
      "Try using .loc[row_indexer,col_indexer] = value instead\n",
      "\n",
      "See the caveats in the documentation: https://pandas.pydata.org/pandas-docs/stable/user_guide/indexing.html#returning-a-view-versus-a-copy\n",
      "  df['cast']=df['cast'].apply(cast_filter)\n"
     ]
    }
   ],
   "source": [
    "df['cast']=df['cast'].apply(cast_filter)"
   ]
  },
  {
   "cell_type": "code",
   "execution_count": 131,
   "id": "a43d31c3",
   "metadata": {},
   "outputs": [
    {
     "name": "stderr",
     "output_type": "stream",
     "text": [
      "C:\\Users\\91789\\AppData\\Local\\Temp/ipykernel_7636/584830533.py:1: SettingWithCopyWarning: \n",
      "A value is trying to be set on a copy of a slice from a DataFrame.\n",
      "Try using .loc[row_indexer,col_indexer] = value instead\n",
      "\n",
      "See the caveats in the documentation: https://pandas.pydata.org/pandas-docs/stable/user_guide/indexing.html#returning-a-view-versus-a-copy\n",
      "  df['listed_in']=df['listed_in'].apply(space_hide)\n"
     ]
    }
   ],
   "source": [
    "df['listed_in']=df['listed_in'].apply(space_hide)"
   ]
  },
  {
   "cell_type": "code",
   "execution_count": null,
   "id": "1b28a084",
   "metadata": {},
   "outputs": [],
   "source": []
  },
  {
   "cell_type": "code",
   "execution_count": 57,
   "id": "c6e43676",
   "metadata": {},
   "outputs": [
    {
     "data": {
      "text/html": [
       "<div>\n",
       "<style scoped>\n",
       "    .dataframe tbody tr th:only-of-type {\n",
       "        vertical-align: middle;\n",
       "    }\n",
       "\n",
       "    .dataframe tbody tr th {\n",
       "        vertical-align: top;\n",
       "    }\n",
       "\n",
       "    .dataframe thead th {\n",
       "        text-align: right;\n",
       "    }\n",
       "</style>\n",
       "<table border=\"1\" class=\"dataframe\">\n",
       "  <thead>\n",
       "    <tr style=\"text-align: right;\">\n",
       "      <th></th>\n",
       "      <th>show_id</th>\n",
       "      <th>type</th>\n",
       "      <th>title</th>\n",
       "      <th>description</th>\n",
       "      <th>tags</th>\n",
       "    </tr>\n",
       "  </thead>\n",
       "  <tbody>\n",
       "    <tr>\n",
       "      <th>2431</th>\n",
       "      <td>s2432</td>\n",
       "      <td>TV Show</td>\n",
       "      <td>Girls und Panzer</td>\n",
       "      <td>Miho Nishizumi tries to escape her family's tr...</td>\n",
       "      <td>Tsutomu MizushimaMai Fuchigami  Ai Kayano  Mam...</td>\n",
       "    </tr>\n",
       "    <tr>\n",
       "      <th>3012</th>\n",
       "      <td>s3013</td>\n",
       "      <td>Movie</td>\n",
       "      <td>Inside Man: Most Wanted</td>\n",
       "      <td>A hotshot NYPD negotiator butts heads with the...</td>\n",
       "      <td>Michael J. BassettAml Ameen  Rhea Seehorn  Rox...</td>\n",
       "    </tr>\n",
       "    <tr>\n",
       "      <th>124</th>\n",
       "      <td>s125</td>\n",
       "      <td>Movie</td>\n",
       "      <td>5Gang</td>\n",
       "      <td>To keep the band together, Selly tries to earn...</td>\n",
       "      <td>Matei DimaAndrei Selaru  Dorian Popa  Julia Ma...</td>\n",
       "    </tr>\n",
       "    <tr>\n",
       "      <th>1914</th>\n",
       "      <td>s1915</td>\n",
       "      <td>Movie</td>\n",
       "      <td>Eat Pray Love</td>\n",
       "      <td>After deciding to reshape her life after divor...</td>\n",
       "      <td>Ryan MurphyJulia Roberts  James Franco  Javier...</td>\n",
       "    </tr>\n",
       "    <tr>\n",
       "      <th>5267</th>\n",
       "      <td>s5268</td>\n",
       "      <td>Movie</td>\n",
       "      <td>Romeo Akbar Walter</td>\n",
       "      <td>In 1971, a fallen army major’s son is tapped b...</td>\n",
       "      <td>Robbie GrewalJohn Abraham  Jackie Shroff  Moun...</td>\n",
       "    </tr>\n",
       "  </tbody>\n",
       "</table>\n",
       "</div>"
      ],
      "text/plain": [
       "     show_id     type                    title  \\\n",
       "2431   s2432  TV Show         Girls und Panzer   \n",
       "3012   s3013    Movie  Inside Man: Most Wanted   \n",
       "124     s125    Movie                    5Gang   \n",
       "1914   s1915    Movie            Eat Pray Love   \n",
       "5267   s5268    Movie       Romeo Akbar Walter   \n",
       "\n",
       "                                            description  \\\n",
       "2431  Miho Nishizumi tries to escape her family's tr...   \n",
       "3012  A hotshot NYPD negotiator butts heads with the...   \n",
       "124   To keep the band together, Selly tries to earn...   \n",
       "1914  After deciding to reshape her life after divor...   \n",
       "5267  In 1971, a fallen army major’s son is tapped b...   \n",
       "\n",
       "                                                   tags  \n",
       "2431  Tsutomu MizushimaMai Fuchigami  Ai Kayano  Mam...  \n",
       "3012  Michael J. BassettAml Ameen  Rhea Seehorn  Rox...  \n",
       "124   Matei DimaAndrei Selaru  Dorian Popa  Julia Ma...  \n",
       "1914  Ryan MurphyJulia Roberts  James Franco  Javier...  \n",
       "5267  Robbie GrewalJohn Abraham  Jackie Shroff  Moun...  "
      ]
     },
     "execution_count": 57,
     "metadata": {},
     "output_type": "execute_result"
    }
   ],
   "source": [
    "df.sample(5)"
   ]
  },
  {
   "cell_type": "code",
   "execution_count": null,
   "id": "b214531e",
   "metadata": {},
   "outputs": [],
   "source": []
  },
  {
   "cell_type": "code",
   "execution_count": 44,
   "id": "6464bdd8",
   "metadata": {},
   "outputs": [
    {
     "name": "stderr",
     "output_type": "stream",
     "text": [
      "C:\\Users\\91789\\AppData\\Local\\Temp/ipykernel_8212/2431771900.py:1: SettingWithCopyWarning: \n",
      "A value is trying to be set on a copy of a slice from a DataFrame.\n",
      "Try using .loc[row_indexer,col_indexer] = value instead\n",
      "\n",
      "See the caveats in the documentation: https://pandas.pydata.org/pandas-docs/stable/user_guide/indexing.html#returning-a-view-versus-a-copy\n",
      "  df['tags']=df['director']+df['cast']+df['listed_in']+df['description']\n"
     ]
    }
   ],
   "source": [
    "df['tags']=df['director']+df['cast']+df['listed_in']+df['description']"
   ]
  },
  {
   "cell_type": "code",
   "execution_count": 53,
   "id": "8648364a",
   "metadata": {},
   "outputs": [
    {
     "name": "stderr",
     "output_type": "stream",
     "text": [
      "C:\\Users\\91789\\anaconda3\\lib\\site-packages\\pandas\\core\\frame.py:4906: SettingWithCopyWarning: \n",
      "A value is trying to be set on a copy of a slice from a DataFrame\n",
      "\n",
      "See the caveats in the documentation: https://pandas.pydata.org/pandas-docs/stable/user_guide/indexing.html#returning-a-view-versus-a-copy\n",
      "  return super().drop(\n"
     ]
    }
   ],
   "source": [
    "df.drop('director',axis=1,inplace=True)"
   ]
  },
  {
   "cell_type": "code",
   "execution_count": 54,
   "id": "e35d0c3d",
   "metadata": {},
   "outputs": [],
   "source": [
    "df.drop('cast',axis=1,inplace=True)"
   ]
  },
  {
   "cell_type": "code",
   "execution_count": 56,
   "id": "c767dddb",
   "metadata": {},
   "outputs": [
    {
     "name": "stderr",
     "output_type": "stream",
     "text": [
      "C:\\Users\\91789\\anaconda3\\lib\\site-packages\\pandas\\core\\frame.py:4906: SettingWithCopyWarning: \n",
      "A value is trying to be set on a copy of a slice from a DataFrame\n",
      "\n",
      "See the caveats in the documentation: https://pandas.pydata.org/pandas-docs/stable/user_guide/indexing.html#returning-a-view-versus-a-copy\n",
      "  return super().drop(\n"
     ]
    }
   ],
   "source": [
    "df.drop('listed_in',axis=1,inplace=True)"
   ]
  },
  {
   "cell_type": "code",
   "execution_count": 58,
   "id": "deee7705",
   "metadata": {},
   "outputs": [
    {
     "name": "stderr",
     "output_type": "stream",
     "text": [
      "C:\\Users\\91789\\anaconda3\\lib\\site-packages\\pandas\\core\\frame.py:4906: SettingWithCopyWarning: \n",
      "A value is trying to be set on a copy of a slice from a DataFrame\n",
      "\n",
      "See the caveats in the documentation: https://pandas.pydata.org/pandas-docs/stable/user_guide/indexing.html#returning-a-view-versus-a-copy\n",
      "  return super().drop(\n"
     ]
    }
   ],
   "source": [
    "df.drop('description',axis=1,inplace=True)"
   ]
  },
  {
   "cell_type": "code",
   "execution_count": 59,
   "id": "8b1e3117",
   "metadata": {},
   "outputs": [
    {
     "data": {
      "text/html": [
       "<div>\n",
       "<style scoped>\n",
       "    .dataframe tbody tr th:only-of-type {\n",
       "        vertical-align: middle;\n",
       "    }\n",
       "\n",
       "    .dataframe tbody tr th {\n",
       "        vertical-align: top;\n",
       "    }\n",
       "\n",
       "    .dataframe thead th {\n",
       "        text-align: right;\n",
       "    }\n",
       "</style>\n",
       "<table border=\"1\" class=\"dataframe\">\n",
       "  <thead>\n",
       "    <tr style=\"text-align: right;\">\n",
       "      <th></th>\n",
       "      <th>show_id</th>\n",
       "      <th>type</th>\n",
       "      <th>title</th>\n",
       "      <th>tags</th>\n",
       "    </tr>\n",
       "  </thead>\n",
       "  <tbody>\n",
       "    <tr>\n",
       "      <th>1</th>\n",
       "      <td>s2</td>\n",
       "      <td>Movie</td>\n",
       "      <td>07:19</td>\n",
       "      <td>Jorge Michel GrauDemián Bichir  Héctor Bonilla...</td>\n",
       "    </tr>\n",
       "    <tr>\n",
       "      <th>2</th>\n",
       "      <td>s3</td>\n",
       "      <td>Movie</td>\n",
       "      <td>23:59</td>\n",
       "      <td>Gilbert ChanTedd Chan  Stella Chung  Henley Hi...</td>\n",
       "    </tr>\n",
       "    <tr>\n",
       "      <th>3</th>\n",
       "      <td>s4</td>\n",
       "      <td>Movie</td>\n",
       "      <td>9</td>\n",
       "      <td>Shane AckerElijah Wood  John C. Reilly  Jennif...</td>\n",
       "    </tr>\n",
       "    <tr>\n",
       "      <th>4</th>\n",
       "      <td>s5</td>\n",
       "      <td>Movie</td>\n",
       "      <td>21</td>\n",
       "      <td>Robert LuketicJim Sturgess  Kevin Spacey  Kate...</td>\n",
       "    </tr>\n",
       "    <tr>\n",
       "      <th>5</th>\n",
       "      <td>s6</td>\n",
       "      <td>TV Show</td>\n",
       "      <td>46</td>\n",
       "      <td>Serdar AkarErdal Beşikçioğlu  Yasemin Allen  M...</td>\n",
       "    </tr>\n",
       "  </tbody>\n",
       "</table>\n",
       "</div>"
      ],
      "text/plain": [
       "  show_id     type  title                                               tags\n",
       "1      s2    Movie  07:19  Jorge Michel GrauDemián Bichir  Héctor Bonilla...\n",
       "2      s3    Movie  23:59  Gilbert ChanTedd Chan  Stella Chung  Henley Hi...\n",
       "3      s4    Movie      9  Shane AckerElijah Wood  John C. Reilly  Jennif...\n",
       "4      s5    Movie     21  Robert LuketicJim Sturgess  Kevin Spacey  Kate...\n",
       "5      s6  TV Show     46  Serdar AkarErdal Beşikçioğlu  Yasemin Allen  M..."
      ]
     },
     "execution_count": 59,
     "metadata": {},
     "output_type": "execute_result"
    }
   ],
   "source": [
    "df.head()"
   ]
  },
  {
   "cell_type": "code",
   "execution_count": null,
   "id": "282c90a6",
   "metadata": {},
   "outputs": [],
   "source": [
    "df['tags']"
   ]
  }
 ],
 "metadata": {
  "kernelspec": {
   "display_name": "Python 3 (ipykernel)",
   "language": "python",
   "name": "python3"
  },
  "language_info": {
   "codemirror_mode": {
    "name": "ipython",
    "version": 3
   },
   "file_extension": ".py",
   "mimetype": "text/x-python",
   "name": "python",
   "nbconvert_exporter": "python",
   "pygments_lexer": "ipython3",
   "version": "3.9.7"
  }
 },
 "nbformat": 4,
 "nbformat_minor": 5
}
